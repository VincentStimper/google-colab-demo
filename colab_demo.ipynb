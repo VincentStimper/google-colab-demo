{
  "nbformat": 4,
  "nbformat_minor": 0,
  "metadata": {
    "colab": {
      "provenance": [],
      "toc_visible": true,
      "authorship_tag": "ABX9TyPZf7/+gV0rMbnSDvlHzFqq",
      "include_colab_link": true
    },
    "kernelspec": {
      "name": "python3",
      "display_name": "Python 3"
    },
    "language_info": {
      "name": "python"
    }
  },
  "cells": [
    {
      "cell_type": "markdown",
      "metadata": {
        "id": "view-in-github",
        "colab_type": "text"
      },
      "source": [
        "<a href=\"https://colab.research.google.com/github/VincentStimper/google-colab-demo/blob/main/colab_demo.ipynb\" target=\"_parent\"><img src=\"https://colab.research.google.com/assets/colab-badge.svg\" alt=\"Open In Colab\"/></a>"
      ]
    },
    {
      "cell_type": "markdown",
      "source": [
        "# Google Colab Demo"
      ],
      "metadata": {
        "id": "eBJjRfFVmyD6"
      }
    },
    {
      "cell_type": "markdown",
      "source": [
        "## Basic functionality\n",
        "\n",
        "Notebooks in Google Colab have all the functionality you might know from Jupyter notebooks. Text can be written in Markdown and Code in Python. "
      ],
      "metadata": {
        "id": "X4XYLqXPm-kz"
      }
    },
    {
      "cell_type": "code",
      "execution_count": null,
      "metadata": {
        "id": "6M9NlgfamBbo"
      },
      "outputs": [],
      "source": [
        "a = 1\n",
        "b = 2\n",
        "print('a + b = ', a + b)"
      ]
    },
    {
      "cell_type": "markdown",
      "source": [
        "Shell commands can be run as well by using ! as prefix."
      ],
      "metadata": {
        "id": "DV51Xfk7oMHP"
      }
    },
    {
      "cell_type": "code",
      "source": [
        "!ls "
      ],
      "metadata": {
        "id": "V77Tl0heoi0G"
      },
      "execution_count": null,
      "outputs": []
    },
    {
      "cell_type": "markdown",
      "source": [
        "We can use this to check which resources we are using."
      ],
      "metadata": {
        "id": "F_k-kmpjotFx"
      }
    },
    {
      "cell_type": "code",
      "source": [
        "!nproc\n",
        "\n",
        "!nvidia-smi"
      ],
      "metadata": {
        "id": "TdlDQgOqpatk"
      },
      "execution_count": null,
      "outputs": []
    },
    {
      "cell_type": "markdown",
      "source": [
        "Google Colab provides an IDE to make text formatting easier.\n",
        "You can add links and images, autocompletion for latex formulas is supported, and your add emojis 😄\n",
        "\n",
        "$x = \\cos(ϕ)$"
      ],
      "metadata": {
        "id": "QCcSSfAepmQP"
      }
    },
    {
      "cell_type": "markdown",
      "source": [
        "In the side bar, there is the symbol $\\{x\\}$ and when you click on it, you will see all variables defined in your environment.\n",
        "\n",
        "By clicking the symbol below, you will see your local files."
      ],
      "metadata": {
        "id": "DrOdwOlmHzkO"
      }
    },
    {
      "cell_type": "code",
      "source": [
        "f = 1.23\n",
        "s = \"string\"\n",
        "\n",
        "import numpy as np\n",
        "\n",
        "arr = np.arange(10)"
      ],
      "metadata": {
        "id": "UKwylPuRIHgn"
      },
      "execution_count": null,
      "outputs": []
    },
    {
      "cell_type": "code",
      "source": [
        "!echo \"Test\" > test.txt"
      ],
      "metadata": {
        "id": "dyifE3J9IpKY"
      },
      "execution_count": null,
      "outputs": []
    },
    {
      "cell_type": "markdown",
      "source": [
        "Note that the execution time of every cell is recorded and printed at the side of the cell."
      ],
      "metadata": {
        "id": "BbYD3peGS0ua"
      }
    },
    {
      "cell_type": "markdown",
      "source": [
        "## Environment\n",
        "\n",
        "The default environment has many machine learning packages installed in it, such as TensorFlow, PyTorch, JAX, keras, and many more. A lot of packages that are popular for data processing and visualization, such as matplotlib, pandas, scikit-image, and so on, are available as well."
      ],
      "metadata": {
        "id": "p3jTd4cSO9Kq"
      }
    },
    {
      "cell_type": "code",
      "source": [
        "!pip freeze"
      ],
      "metadata": {
        "id": "C8Wld_LGPCRU"
      },
      "execution_count": null,
      "outputs": []
    },
    {
      "cell_type": "markdown",
      "source": [
        "If you need any additional package, you can simply install it via pip or via terminal commands.\n",
        "\n",
        "Note that the environment is reset each time the runtime is restarted or a new user wants to execute the notebook. Hence, in a jupyter notebook for Colab the first commands should install the additional software needed to execute the code."
      ],
      "metadata": {
        "id": "Y3Vr2ZjxQR7_"
      }
    },
    {
      "cell_type": "code",
      "source": [
        "!pip install normflows"
      ],
      "metadata": {
        "id": "s_12C1XMQdYN"
      },
      "execution_count": null,
      "outputs": []
    },
    {
      "cell_type": "code",
      "source": [
        "!apt install htop"
      ],
      "metadata": {
        "id": "zbIwbCrlQp6j"
      },
      "execution_count": null,
      "outputs": []
    },
    {
      "cell_type": "markdown",
      "source": [
        "You can also directly download software or datasets via terminal commands."
      ],
      "metadata": {
        "id": "nEl0KiJwR9hE"
      }
    },
    {
      "cell_type": "code",
      "source": [
        "!wget https://www.cs.toronto.edu/~kriz/cifar-10-python.tar.gz"
      ],
      "metadata": {
        "id": "0sRUaAnOSOg4"
      },
      "execution_count": null,
      "outputs": []
    },
    {
      "cell_type": "markdown",
      "source": [
        "## Forms\n",
        "\n",
        "To make notebooks in Colab more user friendly, there are form cells. They allow the user to change parameters via a from."
      ],
      "metadata": {
        "id": "-iJXlAo4VH8e"
      }
    },
    {
      "cell_type": "code",
      "source": [
        "#@title Add four numbers\n",
        "\n",
        "# This is how you can define input forms for the \n",
        "a = 2 #@param {type:\"number\"}\n",
        "b = 10 #@param {type:\"slider\", min:0, max:100, step:1}\n",
        "c = 0 #@param [\"0\", \"1\", \"2\", \"3\", \"4\"] {type:\"raw\"}\n",
        "d = 1 #@param [\"0\", \"1\", \"2\"] {type:\"raw\", allow-input: true}\n",
        "\n",
        "# We add the four numbers and print the results\n",
        "print(a + b + c + d)\n",
        "\n"
      ],
      "metadata": {
        "cellView": "form",
        "id": "oBmJqMpDVHYu"
      },
      "execution_count": null,
      "outputs": []
    },
    {
      "cell_type": "code",
      "source": [
        "#@title Dates\n",
        "\n",
        "#@markdown You can also use markdown in the form.\n",
        "\n",
        "#@markdown ---\n",
        "#@markdown Please enter your favorite date:\n",
        "date = \"2023-03-06\" #@param {type:\"date\"}\n",
        "#@markdown ---\n",
        "\n",
        "print(date)"
      ],
      "metadata": {
        "cellView": "form",
        "id": "mYyt0R8MXWmK"
      },
      "execution_count": null,
      "outputs": []
    },
    {
      "cell_type": "code",
      "source": [
        "#@title Hidden code\n",
        "\n",
        "# By the way, you can also hide pure code cells\n",
        "\n",
        "print(\"What does this cell do?\")"
      ],
      "metadata": {
        "cellView": "form",
        "id": "PsbdPNeVYucU"
      },
      "execution_count": null,
      "outputs": []
    },
    {
      "cell_type": "markdown",
      "source": [
        "## Interface to other Google Services\n",
        "\n",
        "There are many useful tools to connect Colab with other Google services. I'll highligh two of them here."
      ],
      "metadata": {
        "id": "OKmjfMXLZN0A"
      }
    },
    {
      "cell_type": "markdown",
      "source": [
        "### Drive\n",
        "\n",
        "You can mount your Google drive folder to the runtime. This makes loading data easy. You can also save checkpoints during training to your Google drive to ensure the results to not get lost if the runtime gets terminated."
      ],
      "metadata": {
        "id": "g1W8Z29TasmA"
      }
    },
    {
      "cell_type": "code",
      "source": [
        "from google.colab import drive\n",
        "drive.mount('/content/drive')"
      ],
      "metadata": {
        "id": "NK0axrHFar7F"
      },
      "execution_count": null,
      "outputs": []
    },
    {
      "cell_type": "code",
      "source": [
        "with open('/content/drive/My Drive/foo.txt', 'w') as f:\n",
        "  f.write('Hello Google Drive!')\n",
        "!cat /content/drive/My\\ Drive/foo.txt"
      ],
      "metadata": {
        "id": "SU4Glz1maqcn"
      },
      "execution_count": null,
      "outputs": []
    },
    {
      "cell_type": "markdown",
      "source": [
        "Make sure to unmount your drive and flush the remaining changes to ensure nothing gets lost."
      ],
      "metadata": {
        "id": "N5XwkOtWbWhX"
      }
    },
    {
      "cell_type": "code",
      "source": [
        "drive.flush_and_unmount()\n",
        "print('All changes made in this colab session should now be visible in Drive.')"
      ],
      "metadata": {
        "id": "ppZJ4TLoboSH"
      },
      "execution_count": null,
      "outputs": []
    },
    {
      "cell_type": "markdown",
      "source": [
        "### Sheets\n",
        "\n",
        "If you have some data in Colab that you want to turn into a spreadsheet for Google Docs, you can do that."
      ],
      "metadata": {
        "id": "S7vBtL9lcCIg"
      }
    },
    {
      "cell_type": "code",
      "source": [
        "from google.colab import auth\n",
        "auth.authenticate_user()\n",
        "\n",
        "import gspread\n",
        "from google.auth import default\n",
        "creds, _ = default()\n",
        "\n",
        "# You first need to authorize Colab to use sheets.\n",
        "gc = gspread.authorize(creds)"
      ],
      "metadata": {
        "id": "t8q0r905cVD8"
      },
      "execution_count": null,
      "outputs": []
    },
    {
      "cell_type": "code",
      "source": [
        "sh = gc.create('Test spreadsheet')\n",
        "\n",
        "worksheet = gc.open('Test spreadsheet').sheet1\n",
        "\n",
        "cell_list = worksheet.range('A1:C2')\n",
        "\n",
        "import random\n",
        "for cell in cell_list:\n",
        "  cell.value = random.randint(1, 10)\n",
        "\n",
        "worksheet.update_cells(cell_list)"
      ],
      "metadata": {
        "id": "8ax59znMclxH"
      },
      "execution_count": null,
      "outputs": []
    },
    {
      "cell_type": "markdown",
      "source": [
        "Of course you can also retrieve a spreadsheet from sheets and work with it in you notebook."
      ],
      "metadata": {
        "id": "jKt89Cnfc9aM"
      }
    },
    {
      "cell_type": "code",
      "source": [
        "worksheet = gc.open('Test spreadsheet').sheet1\n",
        "\n",
        "# get_all_values gives a list of rows.\n",
        "rows = worksheet.get_all_values()\n",
        "print(rows)\n",
        "\n",
        "import pandas as pd\n",
        "pd.DataFrame.from_records(rows)"
      ],
      "metadata": {
        "id": "wjyP0aD_dFUG"
      },
      "execution_count": null,
      "outputs": []
    },
    {
      "cell_type": "markdown",
      "source": [
        "## Widgets\n",
        "\n",
        "Colab supports many of the commend jupyter notebook widgets. There are also some specific Colab widgets you can use."
      ],
      "metadata": {
        "id": "YjKAQSMvDSCE"
      }
    },
    {
      "cell_type": "markdown",
      "source": [
        "### Layout\n",
        "\n",
        "There is a layout widget that allows you to structure you output. For instance, you can put your outputs in a grid."
      ],
      "metadata": {
        "id": "W6F6AMDCDl_5"
      }
    },
    {
      "cell_type": "code",
      "source": [
        "from google.colab import widgets\n",
        "\n",
        "print(\"Text 1\")\n",
        "\n",
        "grid = widgets.Grid(3, 3, header_row=True, header_column=True)\n",
        "\n",
        "print(\"Text 2\")\n",
        "\n",
        "for i in range(3):\n",
        "  for j in range(3):\n",
        "    with grid.output_to(i, j):\n",
        "      print(\"Text \", i, j)\n",
        "\n",
        "print(\"Text 3\")"
      ],
      "metadata": {
        "id": "-ipUafzaEA55"
      },
      "execution_count": null,
      "outputs": []
    },
    {
      "cell_type": "markdown",
      "source": [
        "The grid cells can be cleared if the output shall be updated."
      ],
      "metadata": {
        "id": "VTVOBbugFPU5"
      }
    },
    {
      "cell_type": "code",
      "source": [
        "grid = widgets.Grid(3, 3, header_row=True, header_column=True)\n",
        "\n",
        "for i in range(3):\n",
        "  for j in range(3):\n",
        "    with grid.output_to(i, j):\n",
        "      print(\"Text \", i, j)\n",
        "\n",
        "with grid.output_to(1, 2):\n",
        "  print(\"More text\")\n",
        "\n",
        "with grid.output_to(2, 0):\n",
        "  grid.clear_cell()\n",
        "  print(\"New text\")"
      ],
      "metadata": {
        "id": "30p24aulFXYe"
      },
      "execution_count": null,
      "outputs": []
    },
    {
      "cell_type": "markdown",
      "source": [
        "A more suffisticated Layout type is the TabBar."
      ],
      "metadata": {
        "id": "YJAtz8TPGF3H"
      }
    },
    {
      "cell_type": "code",
      "source": [
        "tabbar = widgets.TabBar(['a', 'b', 'c'])\n",
        "\n",
        "for i in range(3):\n",
        "  with tabbar.output_to(i):\n",
        "    print(\"Text \", i)"
      ],
      "metadata": {
        "id": "4mRgMcNDGitu"
      },
      "execution_count": null,
      "outputs": []
    },
    {
      "cell_type": "markdown",
      "source": [
        "This becomes especially useful when you have larger output such as plots.\n",
        "\n",
        "Note that the plots are added to the TabBar in the background when we set `select=False`."
      ],
      "metadata": {
        "id": "b2xBD9mCHF16"
      }
    },
    {
      "cell_type": "code",
      "source": [
        "from matplotlib import pyplot as plt\n",
        "import numpy as np\n",
        "\n",
        "x = np.linspace(-1, 1, 100)\n",
        "\n",
        "max_exp = 10\n",
        "tabbar = widgets.TabBar(list(range(max_exp + 1)))\n",
        "\n",
        "for i in range(max_exp + 1):\n",
        "  with tabbar.output_to(i, select=False):\n",
        "    plt.plot(x, x ** i)\n",
        "    plt.xlim([-1.05, 1.05])\n",
        "    plt.ylim([-1.05, 1.05])\n",
        "    plt.show()"
      ],
      "metadata": {
        "id": "q9UdK7PPHN20"
      },
      "execution_count": null,
      "outputs": []
    },
    {
      "cell_type": "markdown",
      "source": [
        "Of course, you can also combine the two layout types."
      ],
      "metadata": {
        "id": "8gRjitxCIlDB"
      }
    },
    {
      "cell_type": "code",
      "source": [
        "grid = widgets.Grid(1, 4)\n",
        "\n",
        "max_exp = 10\n",
        "locations = ['start', 'bottom', 'end', 'top']\n",
        "\n",
        "for i in range(4):\n",
        "  with grid.output_to(0, i):\n",
        "    r = i + 1\n",
        "    x = np.linspace(-r, r, 100)\n",
        "\n",
        "    print(\"Interval [-%i, %i]\" % (i, i))\n",
        "\n",
        "    tabbar = widgets.TabBar(list(range(max_exp + 1)), location=locations[i])\n",
        "\n",
        "    for j in range(max_exp + 1):\n",
        "      with tabbar.output_to(j, select=False):\n",
        "        plt.plot(x, x ** j)\n",
        "        plt.xlim([-r * 1.05, r * 1.05])\n",
        "        plt.ylim([-r * 1.05, r * 1.05])\n",
        "        plt.show()"
      ],
      "metadata": {
        "id": "JWeeyJeSI2L0"
      },
      "execution_count": null,
      "outputs": []
    },
    {
      "cell_type": "markdown",
      "source": [
        "## Miscellaneous Tools"
      ],
      "metadata": {
        "id": "gc5Q7bVbJanW"
      }
    },
    {
      "cell_type": "markdown",
      "source": [
        "### Interactive Pandas DataFrames\n",
        "\n",
        "To explore Pandas DataFrames interactively, you can just click on the magic wand next to the DataFrame after printing it."
      ],
      "metadata": {
        "id": "xp3jcNFmL-TM"
      }
    },
    {
      "cell_type": "code",
      "source": [
        "from vega_datasets import data\n",
        "\n",
        "cars = data.cars()\n",
        "cars"
      ],
      "metadata": {
        "id": "1R-PUwxpJn7Q"
      },
      "execution_count": null,
      "outputs": []
    },
    {
      "cell_type": "markdown",
      "source": [
        "You can also turn on this feature explicitly using the following code."
      ],
      "metadata": {
        "id": "kPnpsn7eNM5C"
      }
    },
    {
      "cell_type": "code",
      "source": [
        "from google.colab import data_table\n",
        "\n",
        "data_table.enable_dataframe_formatter()\n",
        "\n",
        "cars"
      ],
      "metadata": {
        "id": "YTz-Bl9fNC_g"
      },
      "execution_count": null,
      "outputs": []
    },
    {
      "cell_type": "markdown",
      "source": [
        "### Notebook execution histroy\n",
        "\n",
        "One aspect of notebooks which makes it challenging to interpret the output of a given statement is that you can execute the cells in any order, execute cells multiple times, etc.\n",
        "\n",
        "To ameliorate interpretability, Colab provides an execution history. You can access it through **View** → **Executed code history**. The history captures the cell source and output at execution time. Thereby, you can also see whether the code of a cell has been modified. Executed cells are even shown in the execution history if they have been deleted."
      ],
      "metadata": {
        "id": "o6HAwaIVNzEe"
      }
    },
    {
      "cell_type": "code",
      "source": [
        "a = 1\n",
        "print(a)"
      ],
      "metadata": {
        "id": "EoWnBkQ1NKNq"
      },
      "execution_count": null,
      "outputs": []
    },
    {
      "cell_type": "markdown",
      "source": [
        "From the execution history, you can also create new scate cells, which are copies of cells where you can modify the code without altering the code in your notebook. However, they affect your notebook's state when you run them."
      ],
      "metadata": {
        "id": "WoCEr2oGRHu9"
      }
    },
    {
      "cell_type": "code",
      "source": [
        "print(a)"
      ],
      "metadata": {
        "id": "GFOZQzRzQxlC"
      },
      "execution_count": null,
      "outputs": []
    },
    {
      "cell_type": "markdown",
      "source": [
        "### Easter eggs\n",
        "\n",
        "Go to **Tools** → **Settings** → **Miscellaneous** 😉"
      ],
      "metadata": {
        "id": "K-pymCn2Us3u"
      }
    },
    {
      "cell_type": "code",
      "source": [],
      "metadata": {
        "id": "K1exrcdfYx5e"
      },
      "execution_count": null,
      "outputs": []
    }
  ]
}